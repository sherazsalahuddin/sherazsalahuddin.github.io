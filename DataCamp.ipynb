{
 "cells": [
  {
   "cell_type": "markdown",
   "metadata": {},
   "source": [
    "### Using Python BeautifulSoup to scrape Data Camp Tutorials & Analyze"
   ]
  },
  {
   "cell_type": "markdown",
   "metadata": {},
   "source": [
    "In this tutorial, Why not scrape the tutorials section of the data camp website itself and try to get some insights including but not limited to the following! \n",
    "\n",
    "* Most contributing authors\n",
    "* Timeline of contributors (How it all started!)\n",
    "* Comparing upvotes vs number of articles published\n",
    "\n",
    "But before that, the website will be scraped using python's BeautifulSoup package\n",
    "\n",
    "In order to understand the page structure, Chrome browser developer tools will be used. This is done to identify the Classes that will be searched for the get the required information.\n",
    "\n",
    "Following information will be gathered from the page\n",
    "\n",
    "* Author\n",
    "* Publish Date\n",
    "* Title\n",
    "* Desription\n",
    "* Up Votes\n",
    "\n"
   ]
  },
  {
   "cell_type": "markdown",
   "metadata": {},
   "source": [
    "### Importing Libraries\n",
    "\n",
    "We'll start by importing necessary libraries as follows"
   ]
  },
  {
   "cell_type": "code",
   "execution_count": 273,
   "metadata": {},
   "outputs": [],
   "source": [
    "import pandas as pd\n",
    "import numpy as np\n",
    "import matplotlib.pyplot as plt\n",
    "import seaborn as sns\n",
    "%matplotlib inline\n",
    "import re\n",
    "import time\n",
    "from datetime import datetime\n",
    "import matplotlib.dates as mdates\n",
    "import matplotlib.ticker as ticker\n",
    "from urllib.request import urlopen\n",
    "from bs4 import BeautifulSoup\n"
   ]
  },
  {
   "cell_type": "markdown",
   "metadata": {},
   "source": [
    "### Determining Pages to be Scraped\n",
    "\n",
    "A sampe URL that we're going to loop and scrape is the following https://www.datacamp.com/community/tutorials?page=2 . As we can see, the page=2 argument changes for each page.\n",
    "In order to loop through all the pages to get the necessary dataset, we need to find out the number of pages.\n",
    "\n",
    "The following lines of code do just that\n"
   ]
  },
  {
   "cell_type": "code",
   "execution_count": 2,
   "metadata": {},
   "outputs": [],
   "source": [
    "url = \"https://www.datacamp.com/community/tutorials\"\n",
    "html = urlopen(url)\n",
    "soup = BeautifulSoup(html, 'html')\n",
    "\n",
    "pages = [i.text for i in soup.find_all('a') if 'community/tutorials?page=' in str(i)]\n",
    "lastpage = pages[-1]"
   ]
  },
  {
   "cell_type": "code",
   "execution_count": 3,
   "metadata": {},
   "outputs": [
    {
     "name": "stdout",
     "output_type": "stream",
     "text": [
      "12\n"
     ]
    }
   ],
   "source": [
    "print(lastpage)"
   ]
  },
  {
   "cell_type": "markdown",
   "metadata": {},
   "source": [
    "Illustration is as follows\n",
    "\n",
    "* Specified the url to a variable\n",
    "* Opened the url using urlopen which was imported earlier\n",
    "* Scraped the specified page and assigned it to soup variable\n",
    "* Identified all hyperlinks on the page using list comprehension and filtered for those haivng community/tutorials?page= in it\n",
    "* The text value of the last found url has the last page that needs to be scraped"
   ]
  },
  {
   "cell_type": "markdown",
   "metadata": {},
   "source": [
    "We proceed by declaring list variables that will hold the scraped values for the columns we intent as mentioned earlier "
   ]
  },
  {
   "cell_type": "code",
   "execution_count": 14,
   "metadata": {},
   "outputs": [],
   "source": [
    "description=[]\n",
    "upvote=[]\n",
    "author=[]\n",
    "publishdate=[]\n",
    "title=[]"
   ]
  },
  {
   "cell_type": "markdown",
   "metadata": {},
   "source": [
    "### Doing the Actual Scrape\n",
    "\n",
    "Now that we know how many pages we need to scrape and declared our variables, we will now use a for loop and go through each page one by one to get our fields of interest as shown below. Note that we will end up having list of lists for each column of interest but later we will be flattening the list further so that it can be used for Data Frames."
   ]
  },
  {
   "cell_type": "code",
   "execution_count": 15,
   "metadata": {},
   "outputs": [
    {
     "name": "stdout",
     "output_type": "stream",
     "text": [
      "Done!\n"
     ]
    }
   ],
   "source": [
    "for cp in np.arange(1,int(lastpage)+1):\n",
    "    url = \"https://www.datacamp.com/community/tutorials?page=\" + str(cp)\n",
    "    html = urlopen(url)\n",
    "    soup = BeautifulSoup(html, 'html')\n",
    "    description.append([i.text for i in soup.find_all(class_='jsx-379356511 blocText description')])\n",
    "    upvote.append([i.text for i in soup.find_all(class_='jsx-4192737526 voted')])\n",
    "    author.append([i.text for i in soup.find_all(class_='jsx-566588255 name')])\n",
    "    publishdate.append([i.text for i in soup.find_all(class_='jsx-566588255 date')])\n",
    "    title.append([i.text for i in soup.find_all(class_='jsx-379356511 blue')])\n",
    "    time.sleep(3)\n",
    "print (\"Done!\")"
   ]
  },
  {
   "cell_type": "markdown",
   "metadata": {},
   "source": [
    "Here is what happened in the above code segment\n",
    "\n",
    "* Set the url to a variable\n",
    "* Opened the url using urlopen which was imported earlier\n",
    "* Scraped the specified page and assigned it to soup variable\n",
    "* Identified and extracted values for Description, Up Vote, Author, Publish Date, Title by using their relevant class names. These class names were found using Developer Tools\n",
    "* The time function has been used to be easy on the website this time :)\n",
    "\n"
   ]
  },
  {
   "cell_type": "markdown",
   "metadata": {},
   "source": [
    "### Flattening List of Lists\n",
    "\n",
    "Since the values we got are list of lists, they will now be flatted using the following code segment"
   ]
  },
  {
   "cell_type": "code",
   "execution_count": 18,
   "metadata": {},
   "outputs": [],
   "source": [
    "descriptionflat = [y for x in description for y in x]\n",
    "upvoteflat = [y for x in upvote for y in x]\n",
    "authorflat = [y for x in author for y in x]\n",
    "publishdateflat = [y for x in publishdate for y in x]\n",
    "titleflat = [y for x in title for y in x]\n",
    "publishdateformatted = [datetime.strptime(re.sub('rd, ', ', ', re.sub('st, ', ', ', re.sub('nd, ', ', ', re.sub('th, ',', ',a)))), \"%B %d, %Y\") for a in publishdateflat]"
   ]
  },
  {
   "cell_type": "markdown",
   "metadata": {},
   "source": [
    "The last statement in the cell above converts the date values (which are currently in String Format) to DateTime.\n",
    "\n",
    "### Making a Data Frame and Saving as CSV File\n",
    "\n",
    "The lists will now be grouped into a dictionary and a data frame will be created for further analysis.\n",
    "The last command saves the data frame to a csv file so that it can be used later on."
   ]
  },
  {
   "cell_type": "code",
   "execution_count": 21,
   "metadata": {},
   "outputs": [],
   "source": [
    "cdata = {\"author\":authorflat,\"publishdate\":publishdateformatted,\"title\":titleflat,\"description\":descriptionflat,\"upvote\":upvoteflat}\n",
    "df = pd.DataFrame(data = cdata)\n",
    "df.to_csv(\"c:\\\\users\\\\ssalahuddin\\\\documents\\\\datacamp130818.csv\", header=True, index=False)"
   ]
  },
  {
   "cell_type": "markdown",
   "metadata": {},
   "source": [
    "\n",
    "### Reading CSV File\n",
    "\n",
    "Now we are attempting to read in the collected dataset from the csv file we just created"
   ]
  },
  {
   "cell_type": "code",
   "execution_count": 27,
   "metadata": {},
   "outputs": [],
   "source": [
    "datacamp = pd.read_csv(\"c:\\\\users\\\\ssalahuddin\\\\documents\\\\datacamp130818.csv\", parse_dates=[\"publishdate\"], infer_datetime_format=True)"
   ]
  },
  {
   "cell_type": "code",
   "execution_count": 29,
   "metadata": {},
   "outputs": [
    {
     "data": {
      "text/plain": [
       "(176, 5)"
      ]
     },
     "execution_count": 29,
     "metadata": {},
     "output_type": "execute_result"
    }
   ],
   "source": [
    "datacamp.shape"
   ]
  },
  {
   "cell_type": "markdown",
   "metadata": {},
   "source": [
    "Above command tells us we're dealing with a dataset of 176 rows and 5 columns"
   ]
  },
  {
   "cell_type": "code",
   "execution_count": 95,
   "metadata": {},
   "outputs": [
    {
     "data": {
      "text/html": [
       "<div>\n",
       "<style scoped>\n",
       "    .dataframe tbody tr th:only-of-type {\n",
       "        vertical-align: middle;\n",
       "    }\n",
       "\n",
       "    .dataframe tbody tr th {\n",
       "        vertical-align: top;\n",
       "    }\n",
       "\n",
       "    .dataframe thead th {\n",
       "        text-align: right;\n",
       "    }\n",
       "</style>\n",
       "<table border=\"1\" class=\"dataframe\">\n",
       "  <thead>\n",
       "    <tr style=\"text-align: right;\">\n",
       "      <th></th>\n",
       "      <th>author</th>\n",
       "      <th>description</th>\n",
       "      <th>publishdate</th>\n",
       "      <th>title</th>\n",
       "      <th>upvote</th>\n",
       "      <th>publishyymm</th>\n",
       "    </tr>\n",
       "  </thead>\n",
       "  <tbody>\n",
       "    <tr>\n",
       "      <th>0</th>\n",
       "      <td>Rohit Peesa</td>\n",
       "      <td>This tutorial that will demonstrate how you ca...</td>\n",
       "      <td>2018-08-13</td>\n",
       "      <td>Datasets From Images</td>\n",
       "      <td>3</td>\n",
       "      <td>2018-Aug</td>\n",
       "    </tr>\n",
       "    <tr>\n",
       "      <th>1</th>\n",
       "      <td>Luke Hayden</td>\n",
       "      <td>In this tutorial, you'll learn how to use PCA ...</td>\n",
       "      <td>2018-08-09</td>\n",
       "      <td>Principal Component Analysis in R</td>\n",
       "      <td>14</td>\n",
       "      <td>2018-Aug</td>\n",
       "    </tr>\n",
       "    <tr>\n",
       "      <th>2</th>\n",
       "      <td>Sejal Jaiswal</td>\n",
       "      <td>In this tutorial, you will learn exclusively a...</td>\n",
       "      <td>2018-08-08</td>\n",
       "      <td>Python IF, ELIF, and ELSE Statements</td>\n",
       "      <td>3</td>\n",
       "      <td>2018-Aug</td>\n",
       "    </tr>\n",
       "    <tr>\n",
       "      <th>3</th>\n",
       "      <td>Duong Vu</td>\n",
       "      <td>Learn how to perform Exploratory Data Analysis...</td>\n",
       "      <td>2018-08-07</td>\n",
       "      <td>Generating WordClouds in Python</td>\n",
       "      <td>14</td>\n",
       "      <td>2018-Aug</td>\n",
       "    </tr>\n",
       "    <tr>\n",
       "      <th>4</th>\n",
       "      <td>Keith Singleton</td>\n",
       "      <td>In this tutorial, you’ll learn how to pull dat...</td>\n",
       "      <td>2018-08-07</td>\n",
       "      <td>MeetUp API– Pulling Data &amp; Writing it into a JSON</td>\n",
       "      <td>4</td>\n",
       "      <td>2018-Aug</td>\n",
       "    </tr>\n",
       "  </tbody>\n",
       "</table>\n",
       "</div>"
      ],
      "text/plain": [
       "            author                                        description  \\\n",
       "0      Rohit Peesa  This tutorial that will demonstrate how you ca...   \n",
       "1      Luke Hayden  In this tutorial, you'll learn how to use PCA ...   \n",
       "2    Sejal Jaiswal  In this tutorial, you will learn exclusively a...   \n",
       "3         Duong Vu  Learn how to perform Exploratory Data Analysis...   \n",
       "4  Keith Singleton  In this tutorial, you’ll learn how to pull dat...   \n",
       "\n",
       "  publishdate                                              title  upvote  \\\n",
       "0  2018-08-13                               Datasets From Images       3   \n",
       "1  2018-08-09                  Principal Component Analysis in R      14   \n",
       "2  2018-08-08               Python IF, ELIF, and ELSE Statements       3   \n",
       "3  2018-08-07                    Generating WordClouds in Python      14   \n",
       "4  2018-08-07  MeetUp API– Pulling Data & Writing it into a JSON       4   \n",
       "\n",
       "  publishyymm  \n",
       "0    2018-Aug  \n",
       "1    2018-Aug  \n",
       "2    2018-Aug  \n",
       "3    2018-Aug  \n",
       "4    2018-Aug  "
      ]
     },
     "execution_count": 95,
     "metadata": {},
     "output_type": "execute_result"
    }
   ],
   "source": [
    "datacamp.head()"
   ]
  },
  {
   "cell_type": "markdown",
   "metadata": {},
   "source": [
    "Showing the first 5 rows of the dataset above using the head function"
   ]
  },
  {
   "cell_type": "code",
   "execution_count": 186,
   "metadata": {},
   "outputs": [],
   "source": [
    "datacamp['publishyymm'] = datacamp['publishdate'].dt.strftime(\"%Y-%b\")\n",
    "datacamp[\"posts\"] = 1"
   ]
  },
  {
   "cell_type": "markdown",
   "metadata": {},
   "source": [
    "* The first line in the above code section creates a new column with publish date formated as Year-Month format.\n",
    "* Second line assigns value 1 to a new column posts being used later \n",
    "\n",
    "### Tutorials Count by Time\n",
    "\n",
    "Here we will organize the count of Tutorials over Timeline of Year and Month"
   ]
  },
  {
   "cell_type": "code",
   "execution_count": 287,
   "metadata": {},
   "outputs": [
    {
     "data": {
      "text/plain": [
       "<matplotlib.axes._subplots.AxesSubplot at 0x1bd55d2cb70>"
      ]
     },
     "execution_count": 287,
     "metadata": {},
     "output_type": "execute_result"
    },
    {
     "data": {
      "image/png": "[encoded data removed]",
      "text/plain": [
       "<matplotlib.figure.Figure at 0x1bd55cc5e48>"
      ]
     },
     "metadata": {},
     "output_type": "display_data"
    }
   ],
   "source": [
    "\n",
    "datacamp.groupby([datacamp['publishdate'].dt.year, datacamp['publishdate'].dt.month]).size().plot(kind='bar', figsize=(15,7), color='b')\n"
   ]
  },
  {
   "cell_type": "markdown",
   "metadata": {},
   "source": [
    "### Since 2017 January\n",
    "\n",
    "Since the duration from 2013 till 2016 represent very few posts, we will be ignoring them from now and considering posts starting Jan 2017. A filter will be applied for that as shown below"
   ]
  },
  {
   "cell_type": "code",
   "execution_count": 288,
   "metadata": {},
   "outputs": [
    {
     "data": {
      "text/plain": [
       "<matplotlib.axes._subplots.AxesSubplot at 0x1bd55ca57f0>"
      ]
     },
     "execution_count": 288,
     "metadata": {},
     "output_type": "execute_result"
    },
    {
     "data": {
      "image/png": "[encoded data removed]",
      "text/plain": [
       "<matplotlib.figure.Figure at 0x1bd578f0780>"
      ]
     },
     "metadata": {},
     "output_type": "display_data"
    }
   ],
   "source": [
    "datacamp[datacamp[\"publishdate\"]>='2017-01-01'].sort_values(by=\"publishdate\", ascending=True).groupby([datacamp['publishyymm']],sort=False).size().plot(kind='bar', figsize=(15,7), color='b')"
   ]
  },
  {
   "cell_type": "markdown",
   "metadata": {},
   "source": [
    "Tutorials have paced up in 2018 with especially starting March onwards with a consistent upwards pace. Since we are in mid August and already almost crossing the middle line of July's tutorials count, we might be having July as the month with highest posts so far this year!\n",
    "\n",
    "### Top Authors Graph\n",
    "\n",
    "While we're pacing up on all these tutorials, who have been contributing on them along the way? \n",
    "Here we go with a simple bar chart highlighting this very fact."
   ]
  },
  {
   "cell_type": "code",
   "execution_count": 297,
   "metadata": {},
   "outputs": [
    {
     "data": {
      "text/plain": [
       "<matplotlib.axes._subplots.AxesSubplot at 0x1bd57ca4ba8>"
      ]
     },
     "execution_count": 297,
     "metadata": {},
     "output_type": "execute_result"
    },
    {
     "data": {
      "image/png": "[encoded data removed]",
      "text/plain": [
       "<matplotlib.figure.Figure at 0x1bd55f52438>"
      ]
     },
     "metadata": {},
     "output_type": "display_data"
    }
   ],
   "source": [
    "datacamp[datacamp[\"publishdate\"]>='2017-01-01'][\"author\"].value_counts(sort=True, ascending=False)[:10].plot(kind='bar')"
   ]
  },
  {
   "cell_type": "markdown",
   "metadata": {},
   "source": [
    "### Top Authors List\n",
    "\n",
    "Let's build a list of these as well while we are at it. Will be using this soon below"
   ]
  },
  {
   "cell_type": "code",
   "execution_count": 298,
   "metadata": {},
   "outputs": [],
   "source": [
    "topauthors = datacamp[datacamp[\"publishdate\"]>='2017-01-01'][\"author\"].value_counts(sort=True, ascending=False)[:10].index"
   ]
  },
  {
   "cell_type": "markdown",
   "metadata": {},
   "source": [
    "This is what happened in the code section above\n",
    "\n",
    "* Limited Result set to Tutorials since 2017 January\n",
    "* Select only Author field\n",
    "* Aggregated results using value_counts function\n",
    "* Sorted result set in descending order and limiting it to first 10 rows\n",
    "\n",
    "### Tutorials Paced over Timeline\n",
    "\n",
    "Now what we're going to focus on is since when and at what pace have these top 10 contributors been posting tutorials. For this, we will be using the list we just created along with some transformations to come up with a stacked bar chart that we need."
   ]
  },
  {
   "cell_type": "code",
   "execution_count": 201,
   "metadata": {},
   "outputs": [],
   "source": [
    "dh = datacamp[datacamp[\"publishdate\"]>='2017-01-01'].sort_values(by=\"publishdate\", ascending=True).set_index([\"publishdate\"])\n",
    "dh[\"publishdateone\"] = pd.to_datetime(dh.publishdate.astype(str).str[0:7]+'-01')"
   ]
  },
  {
   "cell_type": "markdown",
   "metadata": {},
   "source": [
    "This is what happened in the code section above\n",
    "\n",
    "* Limited Result set to Tutorials since 2017 January\n",
    "* Sorted by Publish Date\n",
    "* Making Publish Date as the Index column\n",
    "\n",
    "Now that we're going to visualize using a stacked bar char, the data set will now be pivoted by having the date field as Index, Posts as values which are to be aggregated and Authors as columns"
   ]
  },
  {
   "cell_type": "code",
   "execution_count": 275,
   "metadata": {},
   "outputs": [
    {
     "data": {
      "image/png": "[encoded data removed]",
      "text/plain": [
       "<matplotlib.figure.Figure at 0x1bd5875b860>"
      ]
     },
     "metadata": {},
     "output_type": "display_data"
    }
   ],
   "source": [
    "dhp = dh[dh[\"author\"].isin(topauthors)].pivot_table(index=\"publishdateone\",values=\"posts\",columns=\"author\", aggfunc=np.sum)\n",
    "fig, ax = plt.subplots(figsize=(15,7))\n",
    "dhp.plot(ax=ax, kind='bar', stacked=True)\n",
    "ticklabels = [item.strftime('%Y %b') for item in dhp.index]\n",
    "ax.xaxis.set_major_formatter(ticker.FixedFormatter(ticklabels))\n"
   ]
  },
  {
   "cell_type": "markdown",
   "metadata": {},
   "source": [
    "Here is what we possibly get out of the above Chart along with considering the earlier visualization of Tutorial Counts by Authors\n",
    "\n",
    "* While Karlijn Willems has been at the top for Tutorials count, She's also the first to start it all off! But seem to be slowing down :)\n",
    "* Sejal Jaiswal while being the third by count, start high pace and is being consistent with an average of 1 post a month\n",
    "* Aditya Sharma might be crossing Sejal if the same pace is maintained in the coming time."
   ]
  },
  {
   "cell_type": "markdown",
   "metadata": {},
   "source": [
    "\n",
    "### Looking at Upvotes vs Tutorials \n",
    "\n",
    "When a tutorial is liked by a reader, an upvote is signalled respectively.\n",
    "\n",
    "Let's see who's managed to get good amount of upvotes vs number of tutorials they have posted!\n",
    "We'll be considering top 10 contributors in this case as well.\n",
    "This will be done by using a scatter plot\n"
   ]
  },
  {
   "cell_type": "code",
   "execution_count": 294,
   "metadata": {},
   "outputs": [],
   "source": [
    "upvotes = dh[dh[\"author\"].isin(topauthors)].groupby(['author'], as_index=False).agg({'posts':\"sum\",      \n",
    "                                     'upvote': \"sum\"})"
   ]
  },
  {
   "cell_type": "code",
   "execution_count": 295,
   "metadata": {},
   "outputs": [
    {
     "data": {
      "text/plain": [
       "<seaborn.axisgrid.FacetGrid at 0x1bd57cd69e8>"
      ]
     },
     "execution_count": 295,
     "metadata": {},
     "output_type": "execute_result"
    },
    {
     "data": {
      "image/png": "[encoded data removed]",
      "text/plain": [
       "<matplotlib.figure.Figure at 0x1bd559729b0>"
      ]
     },
     "metadata": {},
     "output_type": "display_data"
    }
   ],
   "source": [
    "sns.lmplot('posts', \n",
    "           'upvote', \n",
    "           data=upvotes,\n",
    "           fit_reg=False, \n",
    "           hue=\"author\", \n",
    "           scatter_kws={\"marker\": \"D\", \n",
    "                        \"s\": 100}) "
   ]
  },
  {
   "cell_type": "markdown",
   "metadata": {},
   "source": [
    "While Karlijn Willems has almost double the number of send most posting author, the number of upvotes are way way high! Around 3 times as much compared to Hugo's upvote count. Sejal has managed to be third while others have got some reviews to be made to pace up :)\n",
    "\n",
    "### Conclusion\n",
    "\n",
    "In this tutorial, we have managed to achieve the following\n",
    "\n",
    "* Scrape tutorials list across all pages\n",
    "* Create a Data Frame and save it as CSV for later reference and Analysis\n",
    "* Explored it using Pandas and Matplotlib along with some transformations \n",
    "* Used Line, Bar, Stacked Bar and Scatter Plots to visualize\n",
    "\n",
    "I hope this gives a head start to many of us in exploring this and more of data sets in a similar fashion!\n"
   ]
  }
 ],
 "metadata": {
  "kernelspec": {
   "display_name": "Python 3",
   "language": "python",
   "name": "python3"
  },
  "language_info": {
   "codemirror_mode": {
    "name": "ipython",
    "version": 3
   },
   "file_extension": ".py",
   "mimetype": "text/x-python",
   "name": "python",
   "nbconvert_exporter": "python",
   "pygments_lexer": "ipython3",
   "version": "3.6.4"
  }
 },
 "nbformat": 4,
 "nbformat_minor": 2
}
